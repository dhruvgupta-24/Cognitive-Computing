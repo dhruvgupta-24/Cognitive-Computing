{
  "cells": [
    {
      "cell_type": "markdown",
      "metadata": {
        "id": "view-in-github",
        "colab_type": "text"
      },
      "source": [
        "<a href=\"https://colab.research.google.com/github/dhruvgupta-24/Cognitive-Computing/blob/main/Assignment1.ipynb\" target=\"_parent\"><img src=\"https://colab.research.google.com/assets/colab-badge.svg\" alt=\"Open In Colab\"/></a>"
      ]
    },
    {
      "cell_type": "markdown",
      "metadata": {
        "id": "9tgzLgyBaZ0J"
      },
      "source": [
        "Assignment 1.1"
      ]
    },
    {
      "cell_type": "code",
      "execution_count": null,
      "metadata": {
        "id": "-8DCuN5QaZ0K"
      },
      "outputs": [],
      "source": [
        "print(\"Dhruv Gupta \")\n",
        "print(\"Dhruv Gupta\")\n",
        "print(\"Dhruv Gupta\")"
      ]
    },
    {
      "cell_type": "markdown",
      "metadata": {
        "id": "RDHygqvBaZ0L"
      },
      "source": [
        "Assignment 2.1"
      ]
    },
    {
      "cell_type": "code",
      "execution_count": null,
      "metadata": {
        "id": "XPxRcuxDaZ0L"
      },
      "outputs": [],
      "source": [
        "a = 12\n",
        "b = 23\n",
        "c = 56\n",
        "add = a+b+c\n",
        "print(add)"
      ]
    },
    {
      "cell_type": "markdown",
      "metadata": {
        "id": "m4f_ZjsCaZ0L"
      },
      "source": [
        "Assignment 2.2"
      ]
    },
    {
      "cell_type": "code",
      "execution_count": null,
      "metadata": {
        "id": "fD3U_X-YaZ0M"
      },
      "outputs": [],
      "source": [
        "a = \"Dhruv \"\n",
        "b = \" \"\n",
        "c = \"Gupta\"\n",
        "name = a+b+c\n",
        "print(name)"
      ]
    },
    {
      "cell_type": "markdown",
      "metadata": {
        "id": "B_KJI0nJaZ0M"
      },
      "source": [
        "Assignment 4.1"
      ]
    },
    {
      "cell_type": "code",
      "execution_count": null,
      "metadata": {
        "id": "iZA_lfMPaZ0N"
      },
      "outputs": [],
      "source": [
        "for i in range (7,7*11,7):\n",
        "    print(i)\n",
        "\n",
        "print(\"\\n\")\n",
        "a=9\n",
        "while a <= 90 :\n",
        "    print(a)\n",
        "    a += 9\n"
      ]
    },
    {
      "cell_type": "markdown",
      "metadata": {
        "id": "hlFYXTUSaZ0N"
      },
      "source": [
        "Assignment 4.2"
      ]
    },
    {
      "cell_type": "code",
      "execution_count": null,
      "metadata": {
        "id": "xRCyFA3haZ0N"
      },
      "outputs": [],
      "source": [
        "n = int(input(\"Enter number whose table you wanna know\"))\n",
        "for i in range (n,n*11,n):\n",
        "    print(i)"
      ]
    },
    {
      "cell_type": "markdown",
      "metadata": {
        "id": "r_c7qYyEaZ0N"
      },
      "source": [
        "Assignment 4.3"
      ]
    },
    {
      "cell_type": "code",
      "execution_count": null,
      "metadata": {
        "id": "Gde41kn1aZ0O",
        "outputId": "9fa797da-a6f4-437a-e14f-13f1124450da"
      },
      "outputs": [
        {
          "name": "stdout",
          "output_type": "stream",
          "text": [
            "15\n"
          ]
        }
      ],
      "source": [
        "n = int(input(\"Enter n to find sum of first n natural numbers\"))\n",
        "add=0\n",
        "for i in range (1,n+1) :\n",
        "     add += i\n",
        "print(add)"
      ]
    },
    {
      "cell_type": "markdown",
      "metadata": {
        "id": "OpomPfOFaZ0O"
      },
      "source": [
        "Assignment 5.1"
      ]
    },
    {
      "cell_type": "code",
      "execution_count": null,
      "metadata": {
        "id": "_DqAZlGeaZ0O",
        "outputId": "1643456a-64bc-4581-d7d8-3f48e1ff1b86"
      },
      "outputs": [
        {
          "name": "stdout",
          "output_type": "stream",
          "text": [
            "2222\n"
          ]
        }
      ],
      "source": [
        "a=int(input(\"Enter no. 1\"))\n",
        "b=int(input(\"Enter no. 2\"))\n",
        "c=int(input(\"Enter no. 3\"))\n",
        "maxi = max(a,b,c)\n",
        "print(maxi)"
      ]
    },
    {
      "cell_type": "markdown",
      "metadata": {
        "id": "rChXEBvRaZ0P"
      },
      "source": [
        "Assignment 5.2"
      ]
    },
    {
      "cell_type": "code",
      "execution_count": null,
      "metadata": {
        "id": "waYB2FJuaZ0P"
      },
      "outputs": [],
      "source": [
        "n = int(input(\"Enter no. n\"))\n",
        "sum1=0\n",
        "for i in range(1,n+1):\n",
        "    if i%7 == 0 and i%9 == 0 :\n",
        "        sum1 += i\n",
        "print(sum1)\n"
      ]
    },
    {
      "cell_type": "markdown",
      "metadata": {
        "id": "8_sLhKjhaZ0P"
      },
      "source": [
        "Assignment 5.3"
      ]
    },
    {
      "cell_type": "code",
      "execution_count": null,
      "metadata": {
        "id": "pLW8mRHAaZ0P"
      },
      "outputs": [],
      "source": [
        "n = int(input(\"Enter any number\"))\n",
        "sum1=0\n",
        "def isPrime(i):\n",
        "    if i==1 :\n",
        "        return False\n",
        "    for j in range(2,i//2+1):\n",
        "        if i%j==0:\n",
        "            return False\n",
        "\n",
        "    return True\n",
        "\n",
        "\n",
        "for i in range(1,n+1):\n",
        "    if isPrime(i) :\n",
        "        sum1 += i\n",
        "        print(i)\n",
        "print(sum1)\n"
      ]
    },
    {
      "cell_type": "markdown",
      "metadata": {
        "id": "4K93MJbMaZ0P"
      },
      "source": [
        "Assignment 6.1"
      ]
    },
    {
      "cell_type": "code",
      "execution_count": null,
      "metadata": {
        "id": "H_qr_kJ0aZ0P",
        "outputId": "d6aa6a57-8260-48f2-c3fe-646472b74d8e"
      },
      "outputs": [
        {
          "name": "stdout",
          "output_type": "stream",
          "text": [
            "9\n"
          ]
        }
      ],
      "source": [
        "def addOdd(n):\n",
        "    sum1=0\n",
        "    for i in range(1,n+1):\n",
        "        if i%2 != 0:\n",
        "            sum1 += i\n",
        "    return sum1\n",
        "n = int(input(\"Enter n\"))\n",
        "print(addOdd(n))"
      ]
    },
    {
      "cell_type": "markdown",
      "metadata": {
        "id": "hcxJBLcraZ0Q"
      },
      "source": [
        "Assignment 6.2"
      ]
    },
    {
      "cell_type": "code",
      "execution_count": null,
      "metadata": {
        "id": "ET6mYQUdaZ0Q"
      },
      "outputs": [],
      "source": [
        "def addPrime(n):\n",
        "    sum1=0\n",
        "\n",
        "    for i in range(2,n+1):\n",
        "        f=0\n",
        "        for j in range(2,i//2+1):\n",
        "            if i%j==0:\n",
        "                f=1\n",
        "                break\n",
        "        if f==0:\n",
        "            sum1 += i\n",
        "            print(i)\n",
        "    return sum1\n",
        "\n",
        "n = int(input(\"Enter no.\"))\n",
        "print(addPrime(n))"
      ]
    }
  ],
  "metadata": {
    "kernelspec": {
      "display_name": "Python 3",
      "language": "python",
      "name": "python3"
    },
    "language_info": {
      "codemirror_mode": {
        "name": "ipython",
        "version": 3
      },
      "file_extension": ".py",
      "mimetype": "text/x-python",
      "name": "python",
      "nbconvert_exporter": "python",
      "pygments_lexer": "ipython3",
      "version": "3.12.3"
    },
    "colab": {
      "provenance": [],
      "include_colab_link": true
    }
  },
  "nbformat": 4,
  "nbformat_minor": 0
}